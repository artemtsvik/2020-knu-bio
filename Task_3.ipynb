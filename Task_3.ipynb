{
 "cells": [
  {
   "cell_type": "code",
   "execution_count": 69,
   "metadata": {},
   "outputs": [],
   "source": [
    "import import_ipynb\n",
    "from Task_2 import hamming_distance as HD\n",
    "from lib import bn256\n",
    "import random\n",
    "import numpy as np\n",
    "import copy"
   ]
  },
  {
   "cell_type": "code",
   "execution_count": 70,
   "metadata": {
    "scrolled": true
   },
   "outputs": [
    {
     "data": {
      "text/plain": [
       "(array([ 1,  1, -1, -1, -1, -1, -1,  1, -1,  1, -1,  1, -1, -1, -1, -1]),\n",
       " array([-1, -1, -1, -1,  1, -1, -1,  1, -1, -1,  1,  1,  1,  1,  1,  1]))"
      ]
     },
     "execution_count": 70,
     "metadata": {},
     "output_type": "execute_result"
    }
   ],
   "source": [
    "v1, v2 = (np.random.choice([-1, 1], 16) for _ in range(2))\n",
    "v1, v2"
   ]
  },
  {
   "cell_type": "code",
   "execution_count": 71,
   "metadata": {},
   "outputs": [],
   "source": [
    "G1 = bn256.curve_G\n",
    "G2 = bn256.twist_G"
   ]
  },
  {
   "cell_type": "code",
   "execution_count": 72,
   "metadata": {},
   "outputs": [],
   "source": [
    "v1points = [G2.scalar_mul(bn256.order + i) for i in v1]\n",
    "v2points  = [G1.scalar_mul(bn256.order + i) for i in v2]"
   ]
  },
  {
   "cell_type": "code",
   "execution_count": 73,
   "metadata": {
    "scrolled": true
   },
   "outputs": [
    {
     "data": {
      "text/plain": [
       "(lib.bn256.curve_twist, lib.bn256.curve_point)"
      ]
     },
     "execution_count": 73,
     "metadata": {},
     "output_type": "execute_result"
    }
   ],
   "source": [
    "type(v1points[0]), type(v2points[0])"
   ]
  },
  {
   "cell_type": "code",
   "execution_count": 74,
   "metadata": {},
   "outputs": [],
   "source": [
    "def inverse_G1(curve):\n",
    "    inv = copy.copy(curve)\n",
    "    inv.y = inv.y.additive_inverse()\n",
    "    return inv\n",
    "def inverse_G2(twist):\n",
    "    inv = copy.copy(twist)\n",
    "    inv.negate()\n",
    "    return inv\n"
   ]
  },
  {
   "cell_type": "code",
   "execution_count": 75,
   "metadata": {},
   "outputs": [],
   "source": [
    "def CIPE_setup(G1, G2, n):\n",
    "    s, t = ([random.randrange(2, bn256.order) for i in range(n)] for _ in range(2))\n",
    "    u, v = ([random.randrange(2, bn256.order) for i in range(n+2)] for _ in range(2))\n",
    "    h1, h2 = (random.randrange(2, bn256.order) for _ in range(2))\n",
    "    H1, H2 = G1.scalar_mul(h1), G2.scalar_mul(h2)\n",
    "    gen1_h = [G1.scalar_mul(s[i]).add(H1.scalar_mul(t[i])) for i in range(n)]\n",
    "    gen2_h = [G2.scalar_mul(u[i]).add(H2.scalar_mul(v[i])) for i in range(n+2)]\n",
    "    msk = (s, t, u, v, gen1_h, gen2_h, H1, H2)\n",
    "    return msk"
   ]
  },
  {
   "cell_type": "code",
   "execution_count": 76,
   "metadata": {},
   "outputs": [],
   "source": [
    "def Registration(G2, msk, v1points):\n",
    "    s, t, gen2_h, H2 = msk[0], msk[1], msk[5], msk[7]\n",
    "    n = len(s)\n",
    "    r0 = random.randrange(2, bn256.order)\n",
    "    reg_template = [None for _ in range(n+4)]\n",
    "    reg_template[0] = G2.scalar_mul(r0)\n",
    "    reg_template[1] = H2.scalar_mul(r0)\n",
    "    for i in range(n+2):\n",
    "        reg_template[i+2] = gen2_h[i].scalar_mul(r0)\n",
    "    for i in range(n):\n",
    "        reg_template[2] = reg_template[2].add(inverse_G2(v1points[i].scalar_mul(s[i])))\n",
    "        reg_template[3] = reg_template[3].add(inverse_G2(v1points[i].scalar_mul(t[i])))\n",
    "        reg_template[i+4] = reg_template[i+4].add(v1points[i])\n",
    "    \n",
    "    return reg_template"
   ]
  },
  {
   "cell_type": "code",
   "execution_count": 77,
   "metadata": {},
   "outputs": [],
   "source": [
    "def Authentication(G1, msk, v2points):\n",
    "    u, v, gen1_h, H1 = msk[2], msk[3], msk[4], msk[6]\n",
    "    n = len(u)\n",
    "    r0 = random.randrange(2, bn256.order)\n",
    "    auth_template = [None for _ in range(n+2)]\n",
    "    auth_template[0] = G1.scalar_mul(0)\n",
    "    auth_template[1] = G1.scalar_mul(0)\n",
    "    auth_template[2] = G1.scalar_mul(r0)\n",
    "    auth_template[3] = H1.scalar_mul(r0)\n",
    "    for i in range(n-2):\n",
    "        auth_template[i+4] = gen1_h[i].scalar_mul(r0).add(v2points[i])\n",
    "    for i in range(n):\n",
    "        auth_template[0] = auth_template[0].add(inverse_G1(auth_template[i+2].scalar_mul(u[i])))\n",
    "        auth_template[1] = auth_template[1].add(inverse_G1(auth_template[i+2].scalar_mul(v[i])))\n",
    "    return auth_template"
   ]
  },
  {
   "cell_type": "code",
   "execution_count": 78,
   "metadata": {},
   "outputs": [],
   "source": [
    "def Decryption(G1, G2, msk, v1points, v2points):\n",
    "    reg_template = Registration(G2, msk, v1points)\n",
    "    auth_template = Authentication(G1, msk, v2points)\n",
    "    e = bn256.optimal_ate(reg_template[0], auth_template[0])\n",
    "    n = len(auth_template)\n",
    "    for i in range(1, n):\n",
    "        e = e.mul(bn256.optimal_ate(reg_template[i], auth_template[i]))\n",
    "    return reg_template, auth_template, e"
   ]
  },
  {
   "cell_type": "code",
   "execution_count": 79,
   "metadata": {},
   "outputs": [],
   "source": [
    "def log_table(G1, G2, n):\n",
    "    pair = bn256.optimal_ate(G2, G1)\n",
    "    neg_pair = bn256.optimal_ate(G2, inverse_G1(G1))\n",
    "    log_table = [pair.exp(i) for i in range(n, -1, -2)] + [neg_pair.exp(i) for i in range(2, n+1, 2)]\n",
    "    return log_table"
   ]
  },
  {
   "cell_type": "code",
   "execution_count": 80,
   "metadata": {},
   "outputs": [
    {
     "name": "stdout",
     "output_type": "stream",
     "text": [
      "Wall time: 21.1 s\n"
     ]
    }
   ],
   "source": [
    "%%time\n",
    "msk = CIPE_setup(G1, G2, len(v1points))\n",
    "Decr = Decryption(G1, G2,  msk, v1points, v2points)\n",
    "lgt = log_table(G1, G2, len(v1points))\n",
    "e = Decr[2]\n",
    "decr_dist = lgt.index(e)"
   ]
  },
  {
   "cell_type": "code",
   "execution_count": 81,
   "metadata": {},
   "outputs": [
    {
     "data": {
      "text/plain": [
       "(9.0, 9)"
      ]
     },
     "execution_count": 81,
     "metadata": {},
     "output_type": "execute_result"
    }
   ],
   "source": [
    "HD(v1, v2), decr_dist\n"
   ]
  },
  {
   "cell_type": "code",
   "execution_count": 82,
   "metadata": {},
   "outputs": [
    {
     "data": {
      "text/plain": [
       "True"
      ]
     },
     "execution_count": 82,
     "metadata": {},
     "output_type": "execute_result"
    }
   ],
   "source": [
    "HD(v1, v2) == decr_dist"
   ]
  },
  {
   "cell_type": "markdown",
   "metadata": {},
   "source": [
    "ЗІЙШЛОСЬ"
   ]
  },
  {
   "cell_type": "markdown",
   "metadata": {},
   "source": [
    " "
   ]
  },
  {
   "cell_type": "markdown",
   "metadata": {},
   "source": [
    " \n",
    "   "
   ]
  },
  {
   "cell_type": "markdown",
   "metadata": {},
   "source": [
    "\n"
   ]
  },
  {
   "cell_type": "markdown",
   "metadata": {},
   "source": [
    "задача 4"
   ]
  },
  {
   "cell_type": "code",
   "execution_count": 83,
   "metadata": {},
   "outputs": [],
   "source": [
    "from lib import bn256\n",
    "import cv2"
   ]
  },
  {
   "cell_type": "code",
   "execution_count": 84,
   "metadata": {},
   "outputs": [
    {
     "data": {
      "image/jpeg": "[encoded data removed]",
      "text/plain": [
       "<IPython.core.display.Image object>"
      ]
     },
     "execution_count": 84,
     "metadata": {
      "image/jpeg": {
       "width": 300
      }
     },
     "output_type": "execute_result"
    }
   ],
   "source": [
    "from IPython.display import Image\n",
    "Image(filename='finger.jpg', width=300) "
   ]
  },
  {
   "cell_type": "code",
   "execution_count": 85,
   "metadata": {},
   "outputs": [
    {
     "name": "stdout",
     "output_type": "stream",
     "text": [
      "(252,)\n"
     ]
    }
   ],
   "source": [
    "au = cv2.imread(\"finger.jpg\", 0)\n",
    "au = au.flatten().astype('int')\n",
    "print(au.shape)\n",
    "n = au.shape[0]\n",
    "reg = np.random.choice((-1,1), n)"
   ]
  },
  {
   "cell_type": "code",
   "execution_count": 86,
   "metadata": {
    "scrolled": false
   },
   "outputs": [
    {
     "data": {
      "text/plain": [
       "array([  0,   1,   2,   3,   4,   5,  10,  11,  12,  14,  17,  22,  24,\n",
       "        28,  31,  32,  37,  41,  42,  46,  49,  61,  63,  64,  69,  71,\n",
       "        72,  73,  74,  75,  78,  82,  84,  85,  88,  96, 100, 101, 103,\n",
       "       105, 108, 113, 115, 116, 119, 127, 128, 131, 132, 135, 143, 147,\n",
       "       148, 149, 163, 170, 173, 177, 179, 181, 192, 194, 196, 198, 203,\n",
       "       212, 216, 218, 223, 227, 228, 231, 233, 234, 235, 236, 237, 238,\n",
       "       241, 242, 244, 245, 246, 250, 251, 252, 253, 254, 255])"
      ]
     },
     "execution_count": 86,
     "metadata": {},
     "output_type": "execute_result"
    }
   ],
   "source": [
    "np.unique(au)"
   ]
  },
  {
   "cell_type": "code",
   "execution_count": 87,
   "metadata": {},
   "outputs": [],
   "source": [
    "au[(au < 240)] = -1\n",
    "au[(au >= 240)] = 1"
   ]
  },
  {
   "cell_type": "code",
   "execution_count": 88,
   "metadata": {},
   "outputs": [
    {
     "data": {
      "text/plain": [
       "((252,), (252,))"
      ]
     },
     "execution_count": 88,
     "metadata": {},
     "output_type": "execute_result"
    }
   ],
   "source": [
    "au.shape, reg.shape"
   ]
  },
  {
   "cell_type": "code",
   "execution_count": 89,
   "metadata": {},
   "outputs": [],
   "source": [
    "G1 = bn256.curve_G\n",
    "G2 = bn256.twist_G\n",
    "pG2 = G2.scalar_mul(bn256.order + 1)\n",
    "mG2 = G2.scalar_mul(bn256.order -1)\n",
    "pG1 = G1.scalar_mul(bn256.order +1)\n",
    "mG1 = G1.scalar_mul(bn256.order -1)\n",
    "au_vec = [pG2 if i == 1 else mG2 for i in au]\n",
    "reg_vec  = [pG1 if i == 1 else mG1 for i in reg]"
   ]
  },
  {
   "cell_type": "code",
   "execution_count": 90,
   "metadata": {},
   "outputs": [
    {
     "name": "stdout",
     "output_type": "stream",
     "text": [
      "Wall time: 1min 27s\n"
     ]
    }
   ],
   "source": [
    "%%time\n",
    "msk = CIPE_setup(G1, G2, len(au_vec))"
   ]
  },
  {
   "cell_type": "code",
   "execution_count": 91,
   "metadata": {
    "scrolled": false
   },
   "outputs": [
    {
     "name": "stdout",
     "output_type": "stream",
     "text": [
      "Wall time: 3min 10s\n"
     ]
    }
   ],
   "source": [
    "%%time\n",
    "Decr = Decryption(G1, G2,  msk, au_vec, reg_vec)\n",
    "e = Decr[2]"
   ]
  },
  {
   "cell_type": "code",
   "execution_count": 92,
   "metadata": {},
   "outputs": [
    {
     "name": "stdout",
     "output_type": "stream",
     "text": [
      "Wall time: 2.49 s\n"
     ]
    }
   ],
   "source": [
    "%%time\n",
    "lgt = log_table(G1, G2, len(au_vec))\n",
    "decr_dist = lgt.index(e)"
   ]
  },
  {
   "cell_type": "code",
   "execution_count": 93,
   "metadata": {},
   "outputs": [
    {
     "data": {
      "text/plain": [
       "(127.0, 127)"
      ]
     },
     "execution_count": 93,
     "metadata": {},
     "output_type": "execute_result"
    }
   ],
   "source": [
    "HD(au, reg), decr_dist"
   ]
  },
  {
   "cell_type": "code",
   "execution_count": 94,
   "metadata": {},
   "outputs": [
    {
     "data": {
      "text/plain": [
       "True"
      ]
     },
     "execution_count": 94,
     "metadata": {},
     "output_type": "execute_result"
    }
   ],
   "source": [
    "HD(au, reg) == decr_dist"
   ]
  }
 ],
 "metadata": {
  "kernelspec": {
   "display_name": "Python 3",
   "language": "python",
   "name": "python3"
  },
  "language_info": {
   "codemirror_mode": {
    "name": "ipython",
    "version": 3
   },
   "file_extension": ".py",
   "mimetype": "text/x-python",
   "name": "python",
   "nbconvert_exporter": "python",
   "pygments_lexer": "ipython3",
   "version": "3.8.1"
  }
 },
 "nbformat": 4,
 "nbformat_minor": 4
}
