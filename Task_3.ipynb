{
 "cells": [
  {
   "cell_type": "code",
   "execution_count": 2,
   "metadata": {},
   "outputs": [],
   "source": [
    "import import_ipynb\n",
    "from Task_2 import hamming_distance as HD\n",
    "from lib import bn256\n",
    "import random\n",
    "import numpy as np\n",
    "import copy"
   ]
  },
  {
   "cell_type": "code",
   "execution_count": 3,
   "metadata": {
    "scrolled": true
   },
   "outputs": [
    {
     "data": {
      "text/plain": [
       "(array([ 1, -1,  1,  1, -1,  1,  1,  1, -1,  1, -1,  1,  1, -1,  1,  1]),\n",
       " array([-1, -1, -1, -1, -1,  1,  1, -1,  1,  1, -1, -1, -1,  1, -1,  1]))"
      ]
     },
     "execution_count": 3,
     "metadata": {},
     "output_type": "execute_result"
    }
   ],
   "source": [
    "v1, v2 = (np.random.choice([-1, 1], 16) for _ in range(2))\n",
    "v1, v2"
   ]
  },
  {
   "cell_type": "code",
   "execution_count": 4,
   "metadata": {},
   "outputs": [],
   "source": [
    "G1 = bn256.curve_G\n",
    "G2 = bn256.twist_G"
   ]
  },
  {
   "cell_type": "code",
   "execution_count": 5,
   "metadata": {},
   "outputs": [],
   "source": [
    "v1points = [G2.scalar_mul(bn256.order + i) for i in v1]\n",
    "v2points  = [G1.scalar_mul(bn256.order + i) for i in v2]"
   ]
  },
  {
   "cell_type": "code",
   "execution_count": 6,
   "metadata": {
    "scrolled": false
   },
   "outputs": [
    {
     "data": {
      "text/plain": [
       "(lib.bn256.curve_twist, lib.bn256.curve_point)"
      ]
     },
     "execution_count": 6,
     "metadata": {},
     "output_type": "execute_result"
    }
   ],
   "source": [
    "type(v1points[0]), type(v2points[0])"
   ]
  },
  {
   "cell_type": "code",
   "execution_count": 7,
   "metadata": {
    "scrolled": true
   },
   "outputs": [],
   "source": [
    "h1, h2 = (random.randrange(2, bn256.order) for _ in range(2))\n",
    "H1, H2 = G1.scalar_mul(h1), G2.scalar_mul(h2)\n",
    "#H1, H2, h1, h2"
   ]
  },
  {
   "cell_type": "code",
   "execution_count": 8,
   "metadata": {},
   "outputs": [],
   "source": [
    "def CIPE_setup(n):\n",
    "    s, t = ([random.randrange(2, bn256.order) for i in range(n)] for _ in range(2))\n",
    "    u, v = ([random.randrange(2, bn256.order) for i in range(n+2)] for _ in range(2))\n",
    "    gen1_h = [G1.scalar_mul(s[i]).add(H1.scalar_mul(t[i])) for i in range(n)]\n",
    "    gen2_h = [G2.scalar_mul(u[i]).add(H2.scalar_mul(v[i])) for i in range(n+2)]\n",
    "    msk = (s, t, u, v, gen1_h, gen2_h)\n",
    "    return msk"
   ]
  },
  {
   "cell_type": "code",
   "execution_count": 9,
   "metadata": {},
   "outputs": [],
   "source": [
    "def Registration(G2=G2, msk, v1points):\n",
    "    s, t, gen2_h = msk[0], msk[1], msk[5]\n",
    "    n = len(s)\n",
    "    r0 = random.randrange(2, bn256.order)\n",
    "    reg_template = [None for _ in range(n+4)]\n",
    "    reg_template[0] = G2.scalar_mul(r0)\n",
    "    reg_template[1] = H2.scalar_mul(r0)\n",
    "    for i in range(n+2):\n",
    "        reg_template[i+2] = gen2_h[i].scalar_mul(r0)\n",
    "    for i in range(n):\n",
    "        vs = v1points[i].scalar_mul(s[i]).scalar_mul(bn256.order - 1)\n",
    "        vt = v1points[i].scalar_mul(t[i]).scalar_mul(bn256.order - 1)\n",
    "        reg_template[2] = reg_template[2].add(vs)\n",
    "        reg_template[3] = reg_template[3].add(vt)\n",
    "        reg_template[i+4] = reg_template[i+4].add(v1points[i])\n",
    "    \n",
    "    return reg_template"
   ]
  },
  {
   "cell_type": "code",
   "execution_count": 10,
   "metadata": {},
   "outputs": [],
   "source": [
    "def Authentication(G1=G1, msk, v2points):\n",
    "    u, v, gen1_h = msk[2], msk[3], msk[4]\n",
    "    n = len(u)\n",
    "    r0 = random.randrange(2, bn256.order)\n",
    "    auth_template = [None for _ in range(n+2)]\n",
    "    auth_template[0] = G1.scalar_mul(0)\n",
    "    auth_template[1] = G1.scalar_mul(0)\n",
    "    auth_template[2] = G1.scalar_mul(r0)\n",
    "    auth_template[3] = H1.scalar_mul(r0)\n",
    "    for i in range(n-2):\n",
    "        auth_template[i+4] = gen1_h[i].scalar_mul(r0).add(v2points[i])\n",
    "    for i in range(n):\n",
    "        vu = auth_template[i+2].scalar_mul(u[i]).scalar_mul(bn256.order - 1)\n",
    "        vv = auth_template[i+2].scalar_mul(v[i]).scalar_mul(bn256.order - 1)\n",
    "        auth_template[0] = auth_template[0].add(vu)\n",
    "        auth_template[1] = auth_template[1].add(vv)\n",
    "    return auth_template"
   ]
  },
  {
   "cell_type": "code",
   "execution_count": 11,
   "metadata": {},
   "outputs": [],
   "source": [
    "def Decryption(msk, v1points, v2points):\n",
    "    reg_template = Registration(msk, v1points)\n",
    "    auth_template = Authentication(msk, v2points)\n",
    "    e = bn256.optimal_ate(reg_template[0], auth_template[0])\n",
    "    n = len(auth_template)\n",
    "    for i in range(1, n):\n",
    "        e = e.mul(bn256.optimal_ate(reg_template[i], auth_template[i]))\n",
    "    return reg_template, auth_template, e"
   ]
  },
  {
   "cell_type": "code",
   "execution_count": 12,
   "metadata": {},
   "outputs": [],
   "source": [
    "msk = CIPE_setup(len(v1points))\n",
    "e = Decryption(msk, v1points, v2points)[2]"
   ]
  },
  {
   "cell_type": "code",
   "execution_count": 13,
   "metadata": {},
   "outputs": [],
   "source": [
    "pair = bn256.optimal_ate(G2, G1)\n",
    "neg_pair = bn256.optimal_ate(G2, G1.scalar_mul(bn256.order - 1))\n",
    "log_table = [pair.exp(i) for i in range(16, -1, -2)] + [neg_pair.exp(i) for i in range(2, 17, 2)]\n"
   ]
  },
  {
   "cell_type": "code",
   "execution_count": 14,
   "metadata": {},
   "outputs": [
    {
     "data": {
      "text/plain": [
       "(9.0, 9)"
      ]
     },
     "execution_count": 14,
     "metadata": {},
     "output_type": "execute_result"
    }
   ],
   "source": [
    "HD(v1,v2), log_table.index(e)\n"
   ]
  },
  {
   "cell_type": "markdown",
   "metadata": {},
   "source": [
    "ЗІЙШЛОСЬ"
   ]
  }
 ],
 "metadata": {
  "kernelspec": {
   "display_name": "Python 3",
   "language": "python",
   "name": "python3"
  },
  "language_info": {
   "codemirror_mode": {
    "name": "ipython",
    "version": 3
   },
   "file_extension": ".py",
   "mimetype": "text/x-python",
   "name": "python",
   "nbconvert_exporter": "python",
   "pygments_lexer": "ipython3",
   "version": "3.8.1"
  }
 },
 "nbformat": 4,
 "nbformat_minor": 4
}
