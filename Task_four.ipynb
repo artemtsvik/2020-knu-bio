{
 "cells": [
  {
   "cell_type": "code",
   "execution_count": 1,
   "metadata": {},
   "outputs": [],
   "source": [
    "import Task_two as two\n",
    "import bn256\n",
    "import numpy as np\n",
    "import random\n",
    "from PIL import Image\n"
   ]
  },
  {
   "cell_type": "code",
   "execution_count": 2,
   "metadata": {},
   "outputs": [],
   "source": [
    "### вектор, який будується з фото використовується в якості регістрації\n",
    "### вектор для аутентефікації будується рандомно"
   ]
  },
  {
   "cell_type": "code",
   "execution_count": 3,
   "metadata": {},
   "outputs": [],
   "source": [
    "def reg_vec_image(fotoname):\n",
    "    img = Image.open(fotoname)\n",
    "    gray = img.convert('L')\n",
    "    bw = gray.point(lambda x: x)\n",
    "    data = np.array(bw.getdata())\n",
    "    data = np.where(data >= 128, 1, -1)\n",
    "    return data\n"
   ]
  },
  {
   "cell_type": "code",
   "execution_count": 4,
   "metadata": {},
   "outputs": [],
   "source": [
    "v1 = reg_vec_image(\"eye_for_4 task.jpg\")"
   ]
  },
  {
   "cell_type": "code",
   "execution_count": 5,
   "metadata": {},
   "outputs": [],
   "source": [
    "import functools\n",
    "\n",
    "def benchmark(f):\n",
    "    \n",
    "    import time\n",
    "    @functools.wraps(f)             \n",
    "    def _benchmark(*args, **kw):\n",
    "        t =time.perf_counter()\n",
    "        rez = f(*args, **kw)\n",
    "        t = time.perf_counter() - t        \n",
    "        print('{0} time elapsed {1:.8f} s.'.format(f.__name__, t))\n",
    "        return rez\n",
    "    return _benchmark"
   ]
  },
  {
   "cell_type": "code",
   "execution_count": 6,
   "metadata": {},
   "outputs": [],
   "source": [
    "len_v1_or_v2 = len(v1)"
   ]
  },
  {
   "cell_type": "code",
   "execution_count": 7,
   "metadata": {},
   "outputs": [],
   "source": [
    "v2 = np.random.choice([1, -1], len_v1_or_v2)\n"
   ]
  },
  {
   "cell_type": "code",
   "execution_count": 8,
   "metadata": {},
   "outputs": [
    {
     "data": {
      "text/plain": [
       "(array([-1, -1, -1, -1, -1, -1, -1, -1, -1, -1, -1, -1, -1, -1, -1, -1, -1,\n",
       "        -1, -1, -1, -1,  1, -1, -1, -1, -1, -1, -1, -1, -1, -1, -1, -1, -1,\n",
       "        -1, -1, -1, -1, -1, -1, -1, -1, -1, -1, -1,  1, -1,  1, -1, -1, -1,\n",
       "        -1, -1, -1, -1, -1, -1, -1, -1, -1, -1, -1, -1, -1, -1, -1, -1, -1,\n",
       "        -1, -1, -1, -1,  1,  1,  1, -1, -1,  1,  1,  1,  1,  1,  1,  1,  1,\n",
       "        -1, -1, -1, -1, -1, -1, -1, -1, -1, -1, -1,  1,  1, -1, -1,  1,  1,\n",
       "         1,  1,  1,  1,  1,  1,  1,  1, -1, -1, -1, -1, -1, -1, -1, -1, -1,\n",
       "        -1,  1,  1, -1, -1,  1,  1,  1,  1,  1,  1, -1, -1, -1, -1,  1, -1,\n",
       "        -1, -1, -1, -1, -1, -1, -1, -1,  1, -1, -1,  1,  1,  1,  1,  1, -1,\n",
       "        -1, -1, -1, -1, -1,  1,  1,  1, -1,  1, -1, -1, -1,  1,  1,  1, -1,\n",
       "        -1,  1,  1,  1,  1,  1, -1, -1, -1, -1, -1, -1,  1,  1,  1,  1,  1,\n",
       "         1, -1, -1,  1,  1,  1, -1, -1,  1,  1,  1,  1,  1, -1, -1, -1, -1,\n",
       "        -1, -1,  1,  1,  1,  1,  1,  1, -1, -1,  1,  1,  1, -1, -1,  1,  1,\n",
       "         1,  1,  1, -1, -1, -1, -1, -1, -1,  1,  1,  1,  1,  1,  1,  1, -1,\n",
       "         1,  1,  1,  1, -1,  1,  1,  1,  1,  1,  1, -1, -1, -1, -1,  1,  1,\n",
       "         1,  1,  1,  1,  1,  1,  1,  1,  1,  1, -1, -1,  1,  1,  1,  1,  1,\n",
       "         1,  1,  1,  1,  1,  1,  1,  1,  1,  1,  1,  1, -1,  1,  1,  1,  1,\n",
       "         1,  1, -1,  1,  1,  1,  1,  1,  1,  1,  1,  1,  1,  1, -1,  1,  1,\n",
       "         1,  1, -1,  1,  1,  1,  1,  1,  1, -1,  1,  1,  1,  1,  1,  1,  1,\n",
       "         1,  1,  1,  1,  1,  1,  1,  1,  1,  1,  1,  1,  1,  1,  1,  1, -1,\n",
       "        -1,  1,  1,  1,  1,  1,  1,  1,  1,  1,  1,  1,  1,  1,  1, -1,  1,\n",
       "         1,  1,  1,  1,  1,  1,  1, -1, -1,  1,  1,  1,  1,  1,  1,  1,  1,\n",
       "         1,  1,  1,  1,  1,  1,  1,  1,  1,  1,  1,  1,  1,  1,  1, -1, -1,\n",
       "        -1,  1,  1,  1,  1,  1,  1,  1,  1,  1,  1,  1,  1,  1,  1,  1, -1,\n",
       "         1,  1,  1,  1,  1,  1,  1, -1, -1, -1, -1, -1, -1, -1, -1, -1,  1,\n",
       "         1,  1,  1,  1,  1,  1,  1]),\n",
       " array([ 1,  1,  1, -1, -1, -1, -1,  1, -1,  1, -1, -1, -1,  1, -1, -1, -1,\n",
       "         1, -1, -1,  1,  1, -1,  1, -1,  1, -1,  1,  1,  1,  1,  1, -1,  1,\n",
       "        -1,  1, -1, -1,  1,  1, -1,  1, -1,  1,  1, -1,  1,  1, -1, -1,  1,\n",
       "        -1,  1,  1,  1, -1, -1,  1, -1,  1, -1,  1,  1, -1,  1, -1,  1, -1,\n",
       "         1,  1, -1,  1,  1,  1, -1, -1,  1, -1,  1, -1, -1, -1,  1,  1, -1,\n",
       "        -1, -1, -1, -1, -1, -1, -1,  1, -1,  1, -1, -1,  1, -1,  1,  1,  1,\n",
       "         1,  1, -1, -1,  1,  1, -1,  1, -1, -1, -1, -1,  1,  1, -1, -1,  1,\n",
       "         1,  1,  1, -1,  1, -1, -1,  1, -1, -1, -1,  1, -1, -1, -1,  1, -1,\n",
       "         1, -1,  1, -1, -1, -1,  1,  1, -1, -1,  1,  1, -1, -1,  1, -1,  1,\n",
       "        -1, -1, -1,  1,  1, -1, -1, -1,  1, -1,  1,  1, -1,  1, -1,  1, -1,\n",
       "         1,  1, -1, -1,  1,  1, -1,  1,  1,  1, -1,  1, -1,  1,  1, -1,  1,\n",
       "        -1,  1,  1,  1,  1, -1, -1, -1, -1,  1, -1,  1,  1, -1,  1, -1,  1,\n",
       "         1, -1,  1,  1, -1,  1,  1, -1, -1, -1, -1,  1,  1, -1,  1, -1,  1,\n",
       "        -1, -1, -1, -1, -1,  1, -1,  1,  1, -1,  1,  1, -1, -1,  1,  1,  1,\n",
       "         1, -1, -1,  1,  1, -1,  1,  1,  1,  1, -1,  1, -1, -1,  1, -1, -1,\n",
       "        -1,  1, -1, -1,  1, -1, -1, -1,  1, -1, -1,  1,  1,  1, -1,  1, -1,\n",
       "         1,  1, -1, -1, -1,  1, -1,  1, -1,  1, -1, -1,  1, -1, -1,  1, -1,\n",
       "        -1,  1,  1,  1,  1,  1,  1,  1,  1,  1, -1, -1, -1,  1,  1, -1, -1,\n",
       "         1, -1, -1, -1, -1,  1,  1, -1, -1,  1,  1, -1,  1,  1,  1,  1, -1,\n",
       "        -1,  1,  1,  1, -1, -1,  1, -1, -1,  1,  1,  1, -1,  1, -1, -1, -1,\n",
       "         1, -1,  1,  1,  1, -1,  1,  1, -1,  1, -1,  1,  1,  1,  1, -1, -1,\n",
       "         1,  1,  1,  1,  1, -1, -1, -1,  1, -1, -1,  1, -1,  1, -1,  1, -1,\n",
       "        -1, -1, -1, -1,  1,  1, -1, -1, -1,  1,  1,  1,  1,  1,  1,  1, -1,\n",
       "         1, -1,  1, -1, -1,  1, -1,  1,  1,  1,  1, -1, -1, -1, -1,  1,  1,\n",
       "        -1, -1, -1,  1,  1, -1, -1, -1,  1, -1, -1, -1, -1, -1, -1, -1, -1,\n",
       "         1,  1, -1, -1,  1,  1,  1]))"
      ]
     },
     "execution_count": 8,
     "metadata": {},
     "output_type": "execute_result"
    }
   ],
   "source": [
    "v1, v2"
   ]
  },
  {
   "cell_type": "code",
   "execution_count": 9,
   "metadata": {},
   "outputs": [],
   "source": [
    "hm = two.hamming_distance(v1, v2)"
   ]
  },
  {
   "cell_type": "code",
   "execution_count": 10,
   "metadata": {},
   "outputs": [],
   "source": [
    "G1 = bn256.curve_G\n",
    "G2 = bn256.twist_G"
   ]
  },
  {
   "cell_type": "code",
   "execution_count": 11,
   "metadata": {},
   "outputs": [],
   "source": [
    "v1points = [G2.scalar_mul(bn256.order + i) for i in v1]\n",
    "v2points  = [G1.scalar_mul(bn256.order + i) for i in v2]"
   ]
  },
  {
   "cell_type": "code",
   "execution_count": 12,
   "metadata": {},
   "outputs": [],
   "source": [
    "def building_keys():\n",
    "    s = [random.randrange(2, bn256.order) for _ in range(len_v1_or_v2)]\n",
    "    t = [random.randrange(2, bn256.order) for _ in range(len_v1_or_v2)]\n",
    "    u = [random.randrange(2, bn256.order) for _ in range(len_v1_or_v2 + 2)]\n",
    "    v = [random.randrange(2, bn256.order) for _ in range(len_v1_or_v2 + 2)]\n",
    "    h1 = random.randrange (2, bn256.order)\n",
    "    h2 = random.randrange (2, bn256.order)\n",
    "    H1 = G1.scalar_mul(h1)\n",
    "    H2 = G2.scalar_mul(h2)\n",
    "    gen1_h = [G1.scalar_mul(int(s[i])).add(H1.scalar_mul(int(t[i]))) for i in range(len(s))]\n",
    "    gen2_h = [G2.scalar_mul(int(u[i])).add(H2.scalar_mul(int(v[i]))) for i in range(len(u))]\n",
    "    return [[G2, H2, s, t, gen2_h], [G1, H1, u, v, gen1_h]]\n",
    "    "
   ]
  },
  {
   "cell_type": "code",
   "execution_count": 13,
   "metadata": {},
   "outputs": [],
   "source": [
    "msk = building_keys()"
   ]
  },
  {
   "cell_type": "code",
   "execution_count": 15,
   "metadata": {},
   "outputs": [],
   "source": [
    "@benchmark    \n",
    "def IPE_Registration(msk, v1points):\n",
    "    \n",
    "    r0 = random.randrange(2, bn256.order)\n",
    "    \n",
    "    reg_template = []\n",
    "    reg_template.append(msk[0].scalar_mul(r0))\n",
    "    reg_template.append(msk[1].scalar_mul(r0))\n",
    "    for i in range(len_v1_or_v2 + 2):\n",
    "        reg_template.append(msk[4][i].scalar_mul(r0))\n",
    "         \n",
    "    for i in range(len_v1_or_v2):\n",
    "        reg_template[2] = reg_template[2].add(v1points[i].scalar_mul(msk[2][i]).scalar_mul(bn256.order - 1))\n",
    "        reg_template[3] = reg_template[3].add(v1points[i].scalar_mul(msk[3][i]).scalar_mul(bn256.order - 1))\n",
    "        reg_template[i+4] = reg_template[i+4].add(v1points[i])\n",
    "    \n",
    "    \n",
    "    return reg_template\n",
    "\n",
    "    "
   ]
  },
  {
   "cell_type": "code",
   "execution_count": 16,
   "metadata": {},
   "outputs": [
    {
     "name": "stdout",
     "output_type": "stream",
     "text": [
      "IPE_Registration time elapsed 229.13250164 s.\n"
     ]
    }
   ],
   "source": [
    "result_reg = IPE_Registration(msk[0], v1points)"
   ]
  },
  {
   "cell_type": "code",
   "execution_count": 17,
   "metadata": {},
   "outputs": [],
   "source": [
    "@benchmark    \n",
    "def IPE_Authentication(msk, v2points ):\n",
    "    r0 = random.randrange(2, bn256.order)\n",
    "#     print(r0)\n",
    "    auth_template = []\n",
    "    for i in range(2):\n",
    "        auth_template.append(msk[0].scalar_mul(0))\n",
    "    auth_template.append(msk[0].scalar_mul(r0))\n",
    "    auth_template.append(msk[1].scalar_mul(r0))\n",
    "    for i in range(len_v1_or_v2):\n",
    "        auth_template.append(msk[4][i].scalar_mul(r0).add(v2points[i]))\n",
    "    for i in range(len_v1_or_v2 + 2):\n",
    "        auth_template[0] = auth_template[0].add((auth_template[i+2].scalar_mul(msk[2][i])).scalar_mul(bn256.order - 1))\n",
    "        auth_template[1] = auth_template[1].add(auth_template[i+2].scalar_mul(msk[3][i]).scalar_mul(bn256.order - 1))\n",
    "    return auth_template"
   ]
  },
  {
   "cell_type": "code",
   "execution_count": 18,
   "metadata": {},
   "outputs": [
    {
     "name": "stdout",
     "output_type": "stream",
     "text": [
      "IPE_Authentication time elapsed 57.73551972 s.\n"
     ]
    }
   ],
   "source": [
    "result_aut = IPE_Authentication(msk[1], v2points )"
   ]
  },
  {
   "cell_type": "code",
   "execution_count": 19,
   "metadata": {},
   "outputs": [],
   "source": [
    "@benchmark    \n",
    "def building_op_ate_e():\n",
    "    e = bn256.optimal_ate(result_reg[0], result_aut[0])\n",
    "    for i in range(1, len_v1_or_v2 + 4):\n",
    "        e = e.mul(bn256.optimal_ate(result_reg[i], result_aut[i]))\n",
    "    return e\n",
    "    "
   ]
  },
  {
   "cell_type": "code",
   "execution_count": 20,
   "metadata": {},
   "outputs": [
    {
     "name": "stdout",
     "output_type": "stream",
     "text": [
      "building_op_ate_e time elapsed 133.75367593 s.\n"
     ]
    }
   ],
   "source": [
    "e = building_op_ate_e()"
   ]
  },
  {
   "cell_type": "code",
   "execution_count": 21,
   "metadata": {},
   "outputs": [
    {
     "data": {
      "text/plain": [
       "(((48034000875468529081057204324599093253537356572950478156746632214482025429868,53085525718919287722593114683147824740875646157084388770684319903910806768680),(18798944745918306305634753732831929365435230578694775046531608149088584500734,62126817285076125971520308703141224394447512705736539070635740581618486467874),(47622099726246894805875336261643886153462180646224395925705463707753364500315,9594415641529309604543387784652144065972097014018229345792580434615651768892)),((4474353317627756812845845131389175367127535918145379524907475651886153658899,38129357329093419019879468496457502110299387139281050357979537780866722842463),(10488638252263044780125494102679502025940481973351334076138584674936854335184,38881740341596777832283796127796190275090700732091805771072329437780482052101),(43338787592769049253517893796655182000280095163665925062356424335217977075811,47279284881066482683709997358374103829548126347987421851988369941001056211979)))"
      ]
     },
     "execution_count": 21,
     "metadata": {},
     "output_type": "execute_result"
    }
   ],
   "source": [
    "e"
   ]
  },
  {
   "cell_type": "code",
   "execution_count": 22,
   "metadata": {},
   "outputs": [],
   "source": [
    "@benchmark    \n",
    "def building_logtable():\n",
    "    spar_one = bn256.optimal_ate(G2, G1)\n",
    "    log_table = [spar_one.exp(i) for i in range(len_v1_or_v2, -1, -2)]\n",
    "    spar_two = bn256.optimal_ate(G2, G1.scalar_mul(bn256.order - 1))\n",
    "    log_table = log_table + [spar_two.exp(i) for i in range(2, len_v1_or_v2 + 1, 2)]\n",
    "    return log_table"
   ]
  },
  {
   "cell_type": "code",
   "execution_count": 23,
   "metadata": {},
   "outputs": [
    {
     "name": "stdout",
     "output_type": "stream",
     "text": [
      "building_logtable time elapsed 4.23092946 s.\n"
     ]
    }
   ],
   "source": [
    "log_table = building_logtable()"
   ]
  },
  {
   "cell_type": "code",
   "execution_count": 24,
   "metadata": {},
   "outputs": [
    {
     "name": "stdout",
     "output_type": "stream",
     "text": [
      "building_logtable time elapsed 4.30304727 s.\n"
     ]
    }
   ],
   "source": [
    "index_e_log = building_logtable().index(e)"
   ]
  },
  {
   "cell_type": "code",
   "execution_count": 25,
   "metadata": {},
   "outputs": [
    {
     "data": {
      "text/plain": [
       "210"
      ]
     },
     "execution_count": 25,
     "metadata": {},
     "output_type": "execute_result"
    }
   ],
   "source": [
    "log_table.index(e)"
   ]
  },
  {
   "cell_type": "code",
   "execution_count": 26,
   "metadata": {},
   "outputs": [
    {
     "data": {
      "text/plain": [
       "True"
      ]
     },
     "execution_count": 26,
     "metadata": {},
     "output_type": "execute_result"
    }
   ],
   "source": [
    "hm == index_e_log"
   ]
  }
 ],
 "metadata": {
  "kernelspec": {
   "display_name": "Python 3",
   "language": "python",
   "name": "python3"
  },
  "language_info": {
   "codemirror_mode": {
    "name": "ipython",
    "version": 3
   },
   "file_extension": ".py",
   "mimetype": "text/x-python",
   "name": "python",
   "nbconvert_exporter": "python",
   "pygments_lexer": "ipython3",
   "version": "3.7.4"
  }
 },
 "nbformat": 4,
 "nbformat_minor": 2
}
